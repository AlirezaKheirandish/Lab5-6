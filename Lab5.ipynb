{
  "nbformat": 4,
  "nbformat_minor": 0,
  "metadata": {
    "colab": {
      "provenance": []
    },
    "kernelspec": {
      "name": "python3",
      "display_name": "Python 3"
    },
    "language_info": {
      "name": "python"
    }
  },
  "cells": [
    {
      "cell_type": "code",
      "execution_count": null,
      "metadata": {
        "colab": {
          "base_uri": "https://localhost:8080/"
        },
        "id": "0T4_mVnVtJrd",
        "outputId": "eed115b8-3598-41a7-fa2f-4ebee1c07932"
      },
      "outputs": [
        {
          "output_type": "stream",
          "name": "stdout",
          "text": [
            "enter target word: abcb\n",
            "False\n"
          ]
        }
      ],
      "source": [
        "###\n",
        "#If you want to enter the table manually uncomment below input codes.\n",
        "###\n",
        "# countofwords=int(input(\"number of input words: \"))\n",
        "countofwords = 3\n",
        "# wordlength=int(input(\"number of word characters: \"))\n",
        "wordlength = 4\n",
        "# s= [[x for x in input(\"Enter word: \")] for j in range(countofwords)]\n",
        "s = [['a', 'b', 'c', 'e'], ['s', 'f', 'c', 's'], ['a', 'd', 'e', 'e']]\n",
        "target=input(\"enter target word: \")\n",
        "size=len(target)\n",
        "matchcount=0\n",
        "def findnext(i,j,flag,listoflists,stringindex,target,sizeofstring,countofwords,wordlength):\n",
        "    global matchcount\n",
        "    if stringindex==sizeofstring:\n",
        "        matchcount=matchcount+1\n",
        "        return\n",
        "    if flag==\"c\":\n",
        "        if j+1<wordlength and listoflists[i][j+1]==target[stringindex]:\n",
        "            findnext(i,j+1,\"r\",listoflists,stringindex+1,target,sizeofstring,countofwords,wordlength) \n",
        "        if j-1>0 and listoflists[i][j-1]==target[stringindex]:\n",
        "            findnext(i,j-1,\"l\",listoflists,stringindex+1,target,sizeofstring,countofwords,wordlength) \n",
        "        if i+1<countofwords and listoflists[i+1][j]==target[stringindex]:\n",
        "            findnext(i+1,j,\"u\",listoflists,stringindex+1,target,sizeofstring,countofwords,wordlength)\n",
        "        if i-1>0 and listoflists[i-1][j]==target[stringindex]:\n",
        "            findnext(i-1,j,\"d\",listoflists,stringindex+1,target,sizeofstring,countofwords,wordlength) \n",
        "    if flag==\"r\":\n",
        "        if j+1<wordlength and listoflists[i][j+1]==target[stringindex]:\n",
        "            findnext(i,j+1,\"r\",listoflists,stringindex+1,target,sizeofstring,countofwords,wordlength) \n",
        "        if i+1<countofwords and listoflists[i+1][j]==target[stringindex]:\n",
        "            findnext(i+1,j,\"u\",listoflists,stringindex+1,target,sizeofstring,countofwords,wordlength)\n",
        "        if i-1>0 and listoflists[i-1][j]==target[stringindex]:\n",
        "            findnext(i-1,j,\"d\",listoflists,stringindex+1,target,sizeofstring,countofwords,wordlength) \n",
        "    if flag==\"l\": \n",
        "        if j-1>0 and listoflists[i][j-1]==target[stringindex]:\n",
        "            findnext(i,j-1,\"l\",listoflists,stringindex+1,target,sizeofstring,countofwords,wordlength) \n",
        "        if i+1<countofwords and listoflists[i+1][j]==target[stringindex]:\n",
        "            findnext(i+1,j,\"u\",listoflists,stringindex+1,target,sizeofstring,countofwords,wordlength)\n",
        "        if i-1>0 and listoflists[i-1][j]==target[stringindex]:\n",
        "            findnext(i-1,j,\"d\",listoflists,stringindex+1,target,sizeofstring,countofwords,wordlength) \n",
        "    if flag==\"u\":\n",
        "        if j+1<wordlength and listoflists[i][j+1]==target[stringindex]:\n",
        "            findnext(i,j+1,\"r\",listoflists,stringindex+1,target,sizeofstring,countofwords,wordlength) \n",
        "        if j-1>0 and listoflists[i][j-1]==target[stringindex]:\n",
        "            findnext(i,j-1,\"l\",listoflists,stringindex+1,target,sizeofstring,countofwords,wordlength) \n",
        "        if i+1<countofwords and listoflists[i+1][j]==target[stringindex]:\n",
        "            findnext(i+1,j,\"u\",listoflists,stringindex+1,target,sizeofstring,countofwords,wordlength)\n",
        "    if flag==\"d\":\n",
        "        if j+1<wordlength and listoflists[i][j+1]==target[stringindex]:\n",
        "            findnext(i,j+1,\"r\",listoflists,stringindex+1,target,sizeofstring,countofwords,wordlength) \n",
        "        if j-1>0 and listoflists[i][j-1]==target[stringindex]:\n",
        "            findnext(i,j-1,\"l\",listoflists,stringindex+1,target,sizeofstring,countofwords,wordlength) \n",
        "        if i-1>0 and listoflists[i-1][j]==target[stringindex]:\n",
        "            findnext(i-1,j,\"d\",listoflists,stringindex+1,target,sizeofstring,countofwords,wordlength)\n",
        "for i in  range(countofwords):\n",
        "    for j in range(wordlength):\n",
        "        if s[i][j]==target[0]:\n",
        "            findnext(i,j,\"c\",s,1,target,size,countofwords,wordlength)\n",
        "if matchcount>0:\n",
        "    print(\"True\")\n",
        "else:\n",
        "    print(\"False\")"
      ]
    },
    {
      "cell_type": "markdown",
      "source": [
        "#Q2\n",
        "## recursive"
      ],
      "metadata": {
        "id": "ICmvyat6vttK"
      }
    },
    {
      "cell_type": "code",
      "source": [
        "def levenshtein(a, b):\n",
        "    if not a: return len(b)\n",
        "    if not b: return len(a)\n",
        "    return min(levenshtein(a[1:], b[1:])+(a[0] != b[0]),\n",
        "               levenshtein(a[1:], b)+1,\n",
        "               levenshtein(a, b[1:])+1)\n",
        "\n",
        "string1=input(\"enter first word: \")\n",
        "string2=input(\"enter second word: \")\n",
        "print(levenshtein(string1,string2))"
      ],
      "metadata": {
        "colab": {
          "base_uri": "https://localhost:8080/"
        },
        "id": "_cV2jB4YtOfe",
        "outputId": "68758df8-f253-448a-b573-4abb47ca46fc"
      },
      "execution_count": null,
      "outputs": [
        {
          "output_type": "stream",
          "name": "stdout",
          "text": [
            "enter first word: abc\n",
            "enter second word: acde\n",
            "3\n"
          ]
        }
      ]
    },
    {
      "cell_type": "markdown",
      "source": [
        "## DP"
      ],
      "metadata": {
        "id": "Cjxgy3v0v0fC"
      }
    },
    {
      "cell_type": "code",
      "source": [
        "import numpy\n",
        "def levenshteinDistanceDP(token1, token2):\n",
        "    distances = numpy.zeros((len(token1) + 1, len(token2) + 1))\n",
        "\n",
        "    for t1 in range(len(token1) + 1):\n",
        "        distances[t1][0] = t1\n",
        "\n",
        "    for t2 in range(len(token2) + 1):\n",
        "        distances[0][t2] = t2\n",
        "        \n",
        "    a = 0\n",
        "    b = 0\n",
        "    c = 0\n",
        "    \n",
        "    for t1 in range(1, len(token1) + 1):\n",
        "        for t2 in range(1, len(token2) + 1):\n",
        "            if (token1[t1-1] == token2[t2-1]):\n",
        "                distances[t1][t2] = distances[t1 - 1][t2 - 1]\n",
        "            else:\n",
        "                a = distances[t1][t2 - 1]\n",
        "                b = distances[t1 - 1][t2]\n",
        "                c = distances[t1 - 1][t2 - 1]\n",
        "                \n",
        "                if (a <= b and a <= c):\n",
        "                    distances[t1][t2] = a + 1\n",
        "                elif (b <= a and b <= c):\n",
        "                    distances[t1][t2] = b + 1\n",
        "                else:\n",
        "                    distances[t1][t2] = c + 1\n",
        "    return distances[len(token1)][len(token2)]\n",
        "string1=input(\"enter first word: \")\n",
        "string2=input(\"enter second word: \")\n",
        "distance = levenshteinDistanceDP(string1, string2)\n",
        "print(int(distance))"
      ],
      "metadata": {
        "colab": {
          "base_uri": "https://localhost:8080/"
        },
        "id": "tFcEgb6Mvlxx",
        "outputId": "e30dd48e-4568-49ba-a392-7830d6daef14"
      },
      "execution_count": null,
      "outputs": [
        {
          "output_type": "stream",
          "name": "stdout",
          "text": [
            "enter first word: ab\n",
            "enter second word: acde\n",
            "3\n"
          ]
        }
      ]
    },
    {
      "cell_type": "markdown",
      "source": [
        "# Q3\n"
      ],
      "metadata": {
        "id": "QBd71_mowDfx"
      }
    },
    {
      "cell_type": "code",
      "source": [
        "def colatz(number):\n",
        "    while number!=1:\n",
        "        print(number)\n",
        "        if (number%2)==1:\n",
        "            number=number*3+1\n",
        "        else:\n",
        "            number=int(number/2)\n",
        "    print(number)\n",
        "    return\n",
        "number=int(input(\"enter the number: \"))\n",
        "colatz(number)"
      ],
      "metadata": {
        "colab": {
          "base_uri": "https://localhost:8080/"
        },
        "id": "oxO2eQgxv621",
        "outputId": "581c9651-492f-46d7-b3a4-3edc238fb92c"
      },
      "execution_count": null,
      "outputs": [
        {
          "output_type": "stream",
          "name": "stdout",
          "text": [
            "enter the number: 11\n",
            "11\n",
            "34\n",
            "17\n",
            "52\n",
            "26\n",
            "13\n",
            "40\n",
            "20\n",
            "10\n",
            "5\n",
            "16\n",
            "8\n",
            "4\n",
            "2\n",
            "1\n"
          ]
        }
      ]
    },
    {
      "cell_type": "code",
      "source": [
        "def colatz(number,L,N):\n",
        "    n=0\n",
        "    temp=number\n",
        "    while temp!=1:\n",
        "        if temp in L:\n",
        "          L.append(number)\n",
        "          n = n + N[L.index(temp)]\n",
        "          N.append(n)\n",
        "          break\n",
        "        n=n+1\n",
        "        if (temp%2)==1:\n",
        "            temp=temp*3+1\n",
        "        else:\n",
        "            temp=temp/2\n",
        "    return [number,n]\n",
        "s=[0,0]\n",
        "l=[2]\n",
        "n=[1]\n",
        "for i in range(1,2001):\n",
        "    [k,m]=colatz(i,l,n)\n",
        "    if m>s[1]:\n",
        "        s=[k,m]\n",
        "print('\"',s[0],f'\"and the number of iteration is:', s[1])\n"
      ],
      "metadata": {
        "colab": {
          "base_uri": "https://localhost:8080/"
        },
        "id": "pqT_vRvZwP2x",
        "outputId": "3e77d80c-99be-4bbc-c0bc-b4afca77c0cc"
      },
      "execution_count": null,
      "outputs": [
        {
          "output_type": "stream",
          "name": "stdout",
          "text": [
            "\" 1161 \"and the number of iteration is: 181\n"
          ]
        }
      ]
    },
    {
      "cell_type": "markdown",
      "source": [
        "# Q4"
      ],
      "metadata": {
        "id": "jAtxxrWe7QwW"
      }
    },
    {
      "cell_type": "code",
      "source": [
        "from IPython.core.display import json\n",
        "import numpy as np\n",
        "C = 50\n",
        "F = 0.1\n",
        "rate = C/F\n",
        "N = 5\n",
        "d = [300, 400, 700, 900, 1100]\n",
        "d = np.array(d)\n",
        "p = [1, 1.2, 1.3, 0.9, 1]\n",
        "dist = 1300\n",
        "pos = np.ones((2**N,N), np.int32)\n",
        "j = 1\n",
        "for i in range(N):\n",
        "  for k in range(1,int(2**N/j),2):\n",
        "    pos[(k-1)*j:j*(k):, i] = 0\n",
        "  j = j * 2\n",
        "minimum = -1\n",
        "if d[0]>rate:\n",
        "  print(\"ERROR\")\n",
        "def possible(P):\n",
        "  if np.sum(P == 1) == 0:\n",
        "    if dist>rate:\n",
        "      return 0\n",
        "    else:\n",
        "      return 1\n",
        "  # print(d[P == 1],np.array(dist))\n",
        "  temp = np.diff(np.hstack((np.array(0),d[P == 1],np.array(dist))))\n",
        "  if np.sum(temp>rate)>0:\n",
        "    return 0\n",
        "  else:\n",
        "    return 1\n",
        "index = []\n",
        "for i in range(2**N):\n",
        "  if possible(pos[i,:]):\n",
        "    index.append(pos[i,:])\n",
        "\n",
        "index = np.array(index)\n",
        "ind = np.argmin(np.mean(index,axis = 1))\n",
        "\n",
        "temp = []\n",
        "p_new = []\n",
        "for element in (index):\n",
        "  t = (np.array(d)*element)[element>0]\n",
        "  p_new.append(np.array(p)*element)\n",
        "  t1 = (np.array(p)*element)[element>0]\n",
        "  if len(t)>1:\n",
        "    temp.append(np.mean((np.hstack((t[0], np.diff(t)))*(t1))))\n",
        "  else:\n",
        "    temp.append((t[0])*(t1))\n",
        "print(p_new[np.argmin(np.array(temp))],np.min(np.array(temp)))\n",
        "\n",
        "\n"
      ],
      "metadata": {
        "colab": {
          "base_uri": "https://localhost:8080/"
        },
        "id": "_5xm-_xyB4_c",
        "outputId": "cbf38cc8-5a8e-4127-92ad-220dc9dcb9ca"
      },
      "execution_count": null,
      "outputs": [
        {
          "output_type": "stream",
          "name": "stdout",
          "text": [
            "[1.  1.2 1.3 0.9 1. ] 238.0\n"
          ]
        }
      ]
    },
    {
      "cell_type": "markdown",
      "source": [
        "# Q5"
      ],
      "metadata": {
        "id": "P9maL-RH_NFI"
      }
    },
    {
      "cell_type": "code",
      "source": [
        "# writing lambda function that rounds the input number to the nearest multiple of 5\n",
        "round_to_multiple5 = lambda input_number: ((input_number) // 5 + 1) * 5 if input_number % 5 >=2.5 else ((input_number) // 5) * 5\n",
        "\n",
        "# test round_to_multiple5 function:\n",
        "number1, result1 = 24, round_to_multiple5(24)\n",
        "number2, result2 = 102, round_to_multiple5(102)\n",
        "number3, result3 = 48.37, round_to_multiple5(48.37)\n",
        "number4, result4 = 735.83, round_to_multiple5(735.83)\n",
        "\n",
        "print(f\"nearest multiple of 5 for number {number1} is {result1}\")\n",
        "print(f\"nearest multiple of 5 for number {number2} is {result2}\")\n",
        "print(f\"nearest multiple of 5 for number {number3} is {result3}\")\n",
        "print(f\"nearest multiple of 5 for number {number4} is {result4}\")"
      ],
      "metadata": {
        "colab": {
          "base_uri": "https://localhost:8080/"
        },
        "id": "vJlrKt0k3YP_",
        "outputId": "575b2c93-69da-481b-988e-93cddf0685a8"
      },
      "execution_count": null,
      "outputs": [
        {
          "output_type": "stream",
          "name": "stdout",
          "text": [
            "nearest multiple of 5 for number 24 is 25\n",
            "nearest multiple of 5 for number 102 is 100\n",
            "nearest multiple of 5 for number 48.37 is 50.0\n",
            "nearest multiple of 5 for number 735.83 is 735.0\n"
          ]
        }
      ]
    },
    {
      "cell_type": "markdown",
      "source": [
        "# Q6 & Q7 solved and presented in the last Lab "
      ],
      "metadata": {
        "id": "pkubE4ibDeY5"
      }
    },
    {
      "cell_type": "markdown",
      "source": [
        "# Q8"
      ],
      "metadata": {
        "id": "Uip6EFrv_bOc"
      }
    },
    {
      "cell_type": "code",
      "source": [
        "with open('/content/name_number.txt', 'r') as reader:\n",
        "    name_student_number = reader.readlines()\n",
        "\n",
        "# swap name and student_number from name_student_number list:\n",
        "student_number_name = \"\"\n",
        "for line in name_student_number:\n",
        "  t1,t2 = line.split(',')\n",
        "  student_number_name += f'{t2[:-1]},{t1}\\n'\n",
        "with open('/content/number_name.txt', 'w') as writer:\n",
        "    writer.write(student_number_name)"
      ],
      "metadata": {
        "id": "FRTD0A62_SDx"
      },
      "execution_count": null,
      "outputs": []
    }
  ]
}